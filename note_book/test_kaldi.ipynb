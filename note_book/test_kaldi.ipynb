{
 "cells": [
  {
   "cell_type": "code",
   "execution_count": 9,
   "metadata": {
    "collapsed": true,
    "ExecuteTime": {
     "end_time": "2023-08-11T08:50:36.025749300Z",
     "start_time": "2023-08-11T08:50:36.013767Z"
    }
   },
   "outputs": [],
   "source": [
    "import torchaudio.compliance.kaldi as kaldi\n",
    "import torchaudio.transforms\n",
    "import torchaudio\n",
    "import torchaudio.functional as F"
   ]
  },
  {
   "cell_type": "code",
   "execution_count": 2,
   "outputs": [],
   "source": [
    "audio_path = \"E:/Desktop/resources/test.wav\""
   ],
   "metadata": {
    "collapsed": false,
    "ExecuteTime": {
     "end_time": "2023-08-11T08:45:51.708473Z",
     "start_time": "2023-08-11T08:45:51.695556100Z"
    }
   }
  },
  {
   "cell_type": "code",
   "execution_count": 4,
   "outputs": [],
   "source": [
    "# 读取音频文件并提取特征\n",
    "waveform, sample_rate = torchaudio.load(audio_path)\n",
    "features = kaldi.fbank(waveform)"
   ],
   "metadata": {
    "collapsed": false,
    "ExecuteTime": {
     "end_time": "2023-08-11T08:46:11.256482700Z",
     "start_time": "2023-08-11T08:46:10.093963100Z"
    }
   }
  },
  {
   "cell_type": "code",
   "execution_count": 5,
   "outputs": [
    {
     "data": {
      "text/plain": "(torch.Size([1, 68496]), torch.Size([426, 23]))"
     },
     "execution_count": 5,
     "metadata": {},
     "output_type": "execute_result"
    }
   ],
   "source": [
    "waveform.shape,features.shape"
   ],
   "metadata": {
    "collapsed": false,
    "ExecuteTime": {
     "end_time": "2023-08-11T08:46:21.090238300Z",
     "start_time": "2023-08-11T08:46:21.050601500Z"
    }
   }
  },
  {
   "cell_type": "code",
   "execution_count": 6,
   "outputs": [
    {
     "ename": "AttributeError",
     "evalue": "module 'torchaudio.compliance.kaldi' has no attribute 'compute_cmvn_stats'",
     "output_type": "error",
     "traceback": [
      "\u001B[1;31m---------------------------------------------------------------------------\u001B[0m",
      "\u001B[1;31mAttributeError\u001B[0m                            Traceback (most recent call last)",
      "Cell \u001B[1;32mIn[6], line 2\u001B[0m\n\u001B[0;32m      1\u001B[0m \u001B[38;5;66;03m# 计算均值和方差\u001B[39;00m\n\u001B[1;32m----> 2\u001B[0m stats \u001B[38;5;241m=\u001B[39m \u001B[43mkaldi\u001B[49m\u001B[38;5;241;43m.\u001B[39;49m\u001B[43mcompute_cmvn_stats\u001B[49m(features)\n\u001B[0;32m      4\u001B[0m \u001B[38;5;66;03m# 应用归一化\u001B[39;00m\n\u001B[0;32m      5\u001B[0m normalized_features \u001B[38;5;241m=\u001B[39m kaldi\u001B[38;5;241m.\u001B[39mapply_cmvn(features, stats)\n",
      "\u001B[1;31mAttributeError\u001B[0m: module 'torchaudio.compliance.kaldi' has no attribute 'compute_cmvn_stats'"
     ]
    }
   ],
   "source": [],
   "metadata": {
    "collapsed": false,
    "ExecuteTime": {
     "end_time": "2023-08-11T08:46:25.961159500Z",
     "start_time": "2023-08-11T08:46:25.921939800Z"
    }
   }
  },
  {
   "cell_type": "code",
   "execution_count": 11,
   "outputs": [
    {
     "ename": "RuntimeError",
     "evalue": "torchaudio.functional.functional.compute_kaldi_pitch requires kaldi extension, but TorchAudio is not compiled with it. Please build TorchAudio with kaldi support.",
     "output_type": "error",
     "traceback": [
      "\u001B[1;31m---------------------------------------------------------------------------\u001B[0m",
      "\u001B[1;31mRuntimeError\u001B[0m                              Traceback (most recent call last)",
      "Cell \u001B[1;32mIn[11], line 1\u001B[0m\n\u001B[1;32m----> 1\u001B[0m pitch \u001B[38;5;241m=\u001B[39m \u001B[43mF\u001B[49m\u001B[38;5;241;43m.\u001B[39;49m\u001B[43mcompute_kaldi_pitch\u001B[49m\u001B[43m(\u001B[49m\u001B[43mwaveform\u001B[49m\u001B[43m,\u001B[49m\u001B[43m \u001B[49m\u001B[43msample_rate\u001B[49m\u001B[43m)\u001B[49m\n",
      "File \u001B[1;32mD:\\software\\Anaconda3\\envs\\my_net\\lib\\site-packages\\torchaudio\\_internal\\module_utils.py:73\u001B[0m, in \u001B[0;36mfail_with_message.<locals>.decorator.<locals>.wrapped\u001B[1;34m(*args, **kwargs)\u001B[0m\n\u001B[0;32m     71\u001B[0m \u001B[38;5;129m@wraps\u001B[39m(func)\n\u001B[0;32m     72\u001B[0m \u001B[38;5;28;01mdef\u001B[39;00m \u001B[38;5;21mwrapped\u001B[39m(\u001B[38;5;241m*\u001B[39margs, \u001B[38;5;241m*\u001B[39m\u001B[38;5;241m*\u001B[39mkwargs):\n\u001B[1;32m---> 73\u001B[0m     \u001B[38;5;28;01mraise\u001B[39;00m \u001B[38;5;167;01mRuntimeError\u001B[39;00m(\u001B[38;5;124mf\u001B[39m\u001B[38;5;124m\"\u001B[39m\u001B[38;5;132;01m{\u001B[39;00mfunc\u001B[38;5;241m.\u001B[39m\u001B[38;5;18m__module__\u001B[39m\u001B[38;5;132;01m}\u001B[39;00m\u001B[38;5;124m.\u001B[39m\u001B[38;5;132;01m{\u001B[39;00mfunc\u001B[38;5;241m.\u001B[39m\u001B[38;5;18m__name__\u001B[39m\u001B[38;5;132;01m}\u001B[39;00m\u001B[38;5;124m \u001B[39m\u001B[38;5;132;01m{\u001B[39;00mmessage\u001B[38;5;132;01m}\u001B[39;00m\u001B[38;5;124m\"\u001B[39m)\n",
      "\u001B[1;31mRuntimeError\u001B[0m: torchaudio.functional.functional.compute_kaldi_pitch requires kaldi extension, but TorchAudio is not compiled with it. Please build TorchAudio with kaldi support."
     ]
    }
   ],
   "source": [
    "pitch = F.compute_kaldi_pitch(waveform, sample_rate)"
   ],
   "metadata": {
    "collapsed": false,
    "ExecuteTime": {
     "end_time": "2023-08-11T08:52:18.687548300Z",
     "start_time": "2023-08-11T08:52:18.655380900Z"
    }
   }
  },
  {
   "cell_type": "code",
   "execution_count": 12,
   "outputs": [],
   "source": [
    "pitch = F.detect_pitch_frequency(waveform, sample_rate)"
   ],
   "metadata": {
    "collapsed": false,
    "ExecuteTime": {
     "end_time": "2023-08-11T08:53:21.874671200Z",
     "start_time": "2023-08-11T08:53:21.538034700Z"
    }
   }
  },
  {
   "cell_type": "code",
   "execution_count": 13,
   "outputs": [
    {
     "data": {
      "text/plain": "tensor([[1600.0000, 1600.0000, 1600.0000, 1600.0000, 1454.5455, 1454.5455,\n         1454.5455, 1454.5455, 1454.5455, 1454.5455, 1454.5455,  695.6522,\n          695.6522,  432.4324,  320.0000,  320.0000,  432.4324,  432.4324,\n          432.4324,  432.4324,  432.4324,  363.6364,  363.6364,  363.6364,\n          432.4324,  432.4324,  432.4324,  432.4324,  432.4324,  432.4324,\n          432.4324,  695.6522,  727.2728,  727.2728,  727.2728,  727.2728,\n         2285.7144, 2285.7144,  727.2728,  695.6522,  695.6522,  457.1429,\n          457.1429,  457.1429,  457.1429,  363.6364,  363.6364,  457.1429,\n          363.6364,  457.1429,  457.1429, 2285.7144, 2666.6667,  457.1429,\n          457.1429, 2666.6667, 2666.6667, 1333.3334, 1333.3334, 2666.6667,\n         1333.3334, 1333.3334,  457.1429,  225.3521,  213.3333,  213.3333,\n          183.9081,  183.9081,  186.0465,  188.2353,  188.2353,  188.2353,\n          188.2353,  188.2353,  188.2353,  188.2353,  188.2353,  188.2353,\n          188.2353,  186.0465,  188.2353,  186.0465,  186.0465,  186.0465,\n          186.0465,  186.0465,  186.0465,  186.0465,  186.0465,  186.0465,\n          186.0465,  188.2353,  188.2353,  188.2353,  188.2353,  188.2353,\n          188.2353,  188.2353,  188.2353,  188.2353,  188.2353,  188.2353,\n          188.2353,  188.2353,  188.2353,  188.2353,  190.4762,  190.4762,\n          380.9524, 1777.7778, 1777.7778, 2666.6667, 2666.6667, 2666.6667,\n         2666.6667, 2666.6667, 2666.6667, 2666.6667, 2666.6667, 2666.6667,\n         2666.6667, 2666.6667, 2666.6667, 2666.6667, 2666.6667, 2666.6667,\n         2666.6667, 2666.6667, 2666.6667, 2666.6667, 2666.6667, 2666.6667,\n         2666.6667, 2666.6667, 2666.6667, 2666.6667, 2666.6667, 2285.7144,\n         2285.7144, 2285.7144, 2285.7144, 2285.7144, 2285.7144, 2285.7144,\n         2285.7144, 2285.7144, 2285.7144, 2285.7144, 2285.7144, 2285.7144,\n         2285.7144, 2285.7144, 1777.7778, 1333.3334, 1333.3334, 1777.7778,\n         1777.7778, 1777.7778, 1777.7778, 1777.7778, 1777.7778, 1777.7778,\n         1777.7778, 2285.7144,  192.7711,  192.7711,  183.9081,  177.7778,\n          145.4545,  145.4545,  145.4545,  175.8242,  177.7778,  177.7778,\n          181.8182,  181.8182,  181.8182,  181.8182,  183.9081,  183.9081,\n          183.9081,  183.9081,  192.7711,  192.7711,  192.7711,  183.9081,\n          183.9081,  183.9081,  183.9081,  183.9081,  181.8182,  181.8182,\n          177.7778,  177.7778,  177.7778,  177.7778,  177.7778,  177.7778,\n          177.7778,  177.7778,  177.7778,  183.9081,  183.9081,  183.9081,\n          183.9081, 1333.3334, 1333.3334, 1333.3334, 1454.5455, 1454.5455,\n         1600.0000, 1600.0000, 1600.0000, 1600.0000, 2666.6667, 2666.6667,\n         2666.6667, 2666.6667, 2666.6667, 2666.6667, 2666.6667, 2666.6667,\n         2666.6667, 2666.6667, 2666.6667, 2666.6667, 2666.6667, 2666.6667,\n         2666.6667, 2666.6667, 2285.7144,  195.1219,  195.1219,  195.1219,\n          192.7711,  190.4762,  190.4762,  190.4762,  190.4762,  190.4762,\n          190.4762,  190.4762,  190.4762,  190.4762,  190.4762,  190.4762,\n          190.4762,  190.4762,  188.2353,  188.2353,  188.2353,  188.2353,\n          179.7753,  175.8242,  175.8242,  175.8242,  117.6471,  117.6471,\n          117.6471,  117.6471,  175.8242,  175.8242,  179.7753,  175.8242,\n          175.8242,  175.8242,  175.8242,  175.8242,  179.7753,  190.4762,\n          347.8261, 1333.3334, 1333.3334, 1333.3334, 1333.3334,  347.8261,\n          179.7753,  179.7753,  179.7753,  179.7753,  126.9841,  122.1374,\n          126.9841,  126.9841,  122.1374,  122.1374,  126.9841,  126.9841,\n          122.1374,  122.1374,  118.5185,  118.5185,  118.5185,  118.5185,\n          118.5185,  118.5185,  156.8627,  156.8627,  156.8627,  156.8627,\n          115.9420,  115.9420,  115.9420,  115.9420,  156.8627,  177.7778,\n          177.7778,  181.8182,  183.9081,  183.9081,  186.0465,  188.2353,\n          186.0465,  188.2353, 2285.7144, 2285.7144, 2285.7144, 2285.7144,\n         2285.7144, 2285.7144, 2285.7144, 2285.7144, 2285.7144, 2285.7144,\n         2285.7144, 2285.7144, 2285.7144, 2285.7144, 2285.7144, 2285.7144,\n         2285.7144, 2285.7144, 2285.7144, 2285.7144, 2285.7144, 2285.7144,\n         2285.7144, 2285.7144, 1333.3334, 1333.3334,  163.2653,  163.2653,\n         1333.3334, 1333.3334, 1333.3334, 1333.3334, 1333.3334, 1333.3334,\n         1333.3334, 2285.7144, 2285.7144, 2285.7144, 2285.7144, 2285.7144,\n         2285.7144, 2285.7144, 2285.7144, 2285.7144, 2285.7144, 2285.7144,\n         2285.7144, 2666.6667, 2666.6667, 2666.6667, 2666.6667, 2666.6667,\n         2666.6667, 2666.6667, 2666.6667, 2666.6667, 2666.6667, 2666.6667,\n         2666.6667, 2666.6667, 2666.6667, 2666.6667, 2666.6667, 2666.6667,\n         2666.6667, 2666.6667, 2666.6667, 2666.6667, 2666.6667, 2666.6667,\n         2666.6667, 2666.6667, 2666.6667, 2666.6667, 2666.6667, 2000.0000,\n         2666.6667, 2000.0000, 2666.6667, 2666.6667, 2000.0000, 2000.0000,\n         1142.8572, 1142.8572, 1777.7778, 1777.7778, 1777.7778, 2000.0000,\n         1777.7778, 1777.7778, 1777.7778, 1777.7778,  666.6667,  800.0000,\n         1777.7778, 1777.7778, 1777.7778, 1777.7778, 1777.7778, 1333.3334]])"
     },
     "execution_count": 13,
     "metadata": {},
     "output_type": "execute_result"
    }
   ],
   "source": [
    "pitch"
   ],
   "metadata": {
    "collapsed": false,
    "ExecuteTime": {
     "end_time": "2023-08-11T08:53:27.729512300Z",
     "start_time": "2023-08-11T08:53:27.701983700Z"
    }
   }
  },
  {
   "cell_type": "code",
   "execution_count": 14,
   "outputs": [
    {
     "data": {
      "text/plain": "torch.Size([1, 414])"
     },
     "execution_count": 14,
     "metadata": {},
     "output_type": "execute_result"
    }
   ],
   "source": [
    "pitch.shape"
   ],
   "metadata": {
    "collapsed": false,
    "ExecuteTime": {
     "end_time": "2023-08-11T08:53:36.697142Z",
     "start_time": "2023-08-11T08:53:36.670423Z"
    }
   }
  },
  {
   "cell_type": "code",
   "execution_count": null,
   "outputs": [],
   "source": [],
   "metadata": {
    "collapsed": false
   }
  }
 ],
 "metadata": {
  "kernelspec": {
   "display_name": "Python 3",
   "language": "python",
   "name": "python3"
  },
  "language_info": {
   "codemirror_mode": {
    "name": "ipython",
    "version": 2
   },
   "file_extension": ".py",
   "mimetype": "text/x-python",
   "name": "python",
   "nbconvert_exporter": "python",
   "pygments_lexer": "ipython2",
   "version": "2.7.6"
  }
 },
 "nbformat": 4,
 "nbformat_minor": 0
}
